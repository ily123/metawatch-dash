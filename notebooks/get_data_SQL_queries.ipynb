{
 "cells": [
  {
   "cell_type": "code",
   "execution_count": 3,
   "metadata": {},
   "outputs": [],
   "source": [
    "import sys\n",
    "if '../' not in sys.path:\n",
    "    sys.path.append('../')\n",
    "\n",
    "import mplusdb\n",
    "import pandas as pd\n",
    "import time"
   ]
  },
  {
   "cell_type": "code",
   "execution_count": 5,
   "metadata": {},
   "outputs": [],
   "source": [
    "mdb = mplusdb.MplusDatabase('../.db_config')"
   ]
  },
  {
   "cell_type": "markdown",
   "metadata": {},
   "source": [
    "#### Get all key run counts, sliced by key level, and by spec"
   ]
  },
  {
   "cell_type": "code",
   "execution_count": 13,
   "metadata": {},
   "outputs": [
    {
     "name": "stdout",
     "output_type": "stream",
     "text": [
      "SELECT spec, level, count(level) FROM \n",
      "    (SELECT run_id, spec, level FROM new_table INNER JOIN\n",
      "    roster ON roster.run_id = new_table.id) as J \n",
      "    GROUP BY spec, level;\n",
      "    \n",
      "420.32775616645813\n"
     ]
    }
   ],
   "source": [
    "t0 = time.time()\n",
    "#raise TimeoutError('This will launch a 15 min query. Is this what you are trying to do? ') #safety break\n",
    "query = \"\"\"SELECT spec, level, count(level) FROM \n",
    "    (SELECT run_id, spec, level FROM new_table INNER JOIN\n",
    "    roster ON roster.run_id = new_table.id) as J \n",
    "    GROUP BY spec, level;\n",
    "    \"\"\"\n",
    "print(query)\n",
    "conn = mdb.connect()\n",
    "cursor = conn.cursor()\n",
    "cursor.execute('use keyruns;')\n",
    "cursor.execute(query)\n",
    "ret = cursor.fetchall()\n",
    "cursor.close()\n",
    "conn.close()\n",
    "print(time.time() - t0)"
   ]
  },
  {
   "cell_type": "code",
   "execution_count": 6,
   "metadata": {},
   "outputs": [],
   "source": [
    "#raise TimeoutError('This will overwrite things. Is this what you are trying to do? ') #safety break\n",
    "df = pd.DataFrame(ret, columns = ['spec', 'key_level', 'num_keys'])\n",
    "df.to_pickle('keynums_groupby_level_spec2.pkl')"
   ]
  },
  {
   "cell_type": "markdown",
   "metadata": {},
   "source": [
    "#### Do spec counts for top 500 for each dungeon-week pair"
   ]
  },
  {
   "cell_type": "code",
   "execution_count": 6,
   "metadata": {},
   "outputs": [
    {
     "name": "stdout",
     "output_type": "stream",
     "text": [
      "33.04152989387512\n"
     ]
    }
   ],
   "source": [
    "# this view is already in the database. But putting it here just in case.\n",
    "query_view = \"\"\"\n",
    "CREATE VIEW period_rank AS\n",
    "SELECT * from (\n",
    "SELECT id, dungeon, period, score, DENSE_RANK() OVER(PARTITION BY period, dungeon ORDER BY score DESC) as period_rank\n",
    "from run) as subtable\n",
    "WHERE period_rank <= 500\n",
    "\"\"\"\n",
    "\n",
    "\n",
    "count_query = \"\"\"\n",
    "SELECT period, dungeon, spec, count(spec) FROM period_rank\n",
    "LEFT JOIN roster\n",
    "ON period_rank.id = roster.run_id\n",
    "GROUP BY period, dungeon, spec\n",
    "\"\"\"\n",
    "\n",
    "t0 = time.time()\n",
    "conn = mdb.connect()\n",
    "cursor = conn.cursor()\n",
    "cursor.execute('use keyruns;')\n",
    "cursor.execute(count_query)\n",
    "ret = cursor.fetchall()\n",
    "cursor.close()\n",
    "conn.close()\n",
    "print(time.time() - t0)"
   ]
  },
  {
   "cell_type": "code",
   "execution_count": 7,
   "metadata": {},
   "outputs": [
    {
     "name": "stdout",
     "output_type": "stream",
     "text": [
      "13940\n"
     ]
    }
   ],
   "source": [
    "print(len(ret))"
   ]
  },
  {
   "cell_type": "code",
   "execution_count": 10,
   "metadata": {},
   "outputs": [],
   "source": [
    "#raise TimeoutError('This will overwrite things. Is this what you are trying to do? ') #safety break\n",
    "df = pd.DataFrame(ret, columns = ['period', 'dungeon', 'spec', 'num_keys'])\n",
    "df.to_pickle('top500_keynums_groupby_period_dungeon_spec2.pkl')"
   ]
  },
  {
   "cell_type": "code",
   "execution_count": 2,
   "metadata": {},
   "outputs": [
    {
     "name": "stdout",
     "output_type": "stream",
     "text": [
      "2\n",
      "3\n"
     ]
    }
   ],
   "source": [
    "def fn(run):\n",
    "    run = 2\n",
    "    print(run)\n",
    "    \n",
    "run = 3\n",
    "\n",
    "fn(run)\n",
    "print(run)"
   ]
  },
  {
   "cell_type": "code",
   "execution_count": null,
   "metadata": {},
   "outputs": [],
   "source": []
  }
 ],
 "metadata": {
  "kernelspec": {
   "display_name": "Python 3",
   "language": "python",
   "name": "python3"
  },
  "language_info": {
   "codemirror_mode": {
    "name": "ipython",
    "version": 3
   },
   "file_extension": ".py",
   "mimetype": "text/x-python",
   "name": "python",
   "nbconvert_exporter": "python",
   "pygments_lexer": "ipython3",
   "version": "3.6.9"
  }
 },
 "nbformat": 4,
 "nbformat_minor": 4
}
